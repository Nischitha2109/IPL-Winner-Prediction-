{
 "cells": [
  {
   "cell_type": "markdown",
   "id": "762cb57c",
   "metadata": {},
   "source": [
    "#### Loading the required libraries"
   ]
  },
  {
   "cell_type": "code",
   "execution_count": null,
   "id": "3ebab0f1",
   "metadata": {},
   "outputs": [
    {
     "ename": "",
     "evalue": "",
     "output_type": "error",
     "traceback": [
      "\u001b[1;31mFailed to start the Kernel. \n",
      "\u001b[1;31mFailed to start the Kernel 'base (Python 3.9.13)'. \n",
      "\u001b[1;31mView Jupyter <a href='command:jupyter.viewOutput'>log</a> for further details. Activating /usr/bin/python3 to run Jupyter failed with Error: Workspace not trusted"
     ]
    }
   ],
   "source": [
    "import pandas as pd\n",
    "import matplotlib.pyplot as plt"
   ]
  },
  {
   "cell_type": "markdown",
   "id": "9727a6ba",
   "metadata": {},
   "source": [
    "#### Loading the dataset"
   ]
  },
  {
   "cell_type": "code",
   "execution_count": null,
   "id": "4c9e52f2",
   "metadata": {},
   "outputs": [
    {
     "ename": "",
     "evalue": "",
     "output_type": "error",
     "traceback": [
      "\u001b[1;31mFailed to start the Kernel. \n",
      "\u001b[1;31mFailed to start the Kernel 'base (Python 3.9.13)'. \n",
      "\u001b[1;31mView Jupyter <a href='command:jupyter.viewOutput'>log</a> for further details. Activating /usr/bin/python3 to run Jupyter failed with Error: Workspace not trusted"
     ]
    }
   ],
   "source": [
    "ipl=pd.read_csv(\"matches.csv\")"
   ]
  },
  {
   "cell_type": "code",
   "execution_count": null,
   "id": "3ba3ce27",
   "metadata": {
    "scrolled": true
   },
   "outputs": [
    {
     "ename": "",
     "evalue": "",
     "output_type": "error",
     "traceback": [
      "\u001b[1;31mFailed to start the Kernel. \n",
      "\u001b[1;31mFailed to start the Kernel 'base (Python 3.9.13)'. \n",
      "\u001b[1;31mView Jupyter <a href='command:jupyter.viewOutput'>log</a> for further details. Activating /usr/bin/python3 to run Jupyter failed with Error: Workspace not trusted"
     ]
    }
   ],
   "source": [
    "ipl.head()"
   ]
  },
  {
   "cell_type": "markdown",
   "id": "e728f116",
   "metadata": {},
   "source": [
    "####  Number of rows and columns in the dataset"
   ]
  },
  {
   "cell_type": "code",
   "execution_count": null,
   "id": "e2944330",
   "metadata": {},
   "outputs": [
    {
     "ename": "",
     "evalue": "",
     "output_type": "error",
     "traceback": [
      "\u001b[1;31mFailed to start the Kernel. \n",
      "\u001b[1;31mFailed to start the Kernel 'base (Python 3.9.13)'. \n",
      "\u001b[1;31mView Jupyter <a href='command:jupyter.viewOutput'>log</a> for further details. Activating /usr/bin/python3 to run Jupyter failed with Error: Workspace not trusted"
     ]
    }
   ],
   "source": [
    "ipl.shape"
   ]
  },
  {
   "cell_type": "markdown",
   "id": "cd6ed127",
   "metadata": {},
   "source": [
    "#### Getting the frequency of most of the match awards"
   ]
  },
  {
   "cell_type": "code",
   "execution_count": null,
   "id": "f5f15777",
   "metadata": {},
   "outputs": [
    {
     "ename": "",
     "evalue": "",
     "output_type": "error",
     "traceback": [
      "\u001b[1;31mFailed to start the Kernel. \n",
      "\u001b[1;31mFailed to start the Kernel 'base (Python 3.9.13)'. \n",
      "\u001b[1;31mView Jupyter <a href='command:jupyter.viewOutput'>log</a> for further details. Activating /usr/bin/python3 to run Jupyter failed with Error: Workspace not trusted"
     ]
    }
   ],
   "source": [
    "ipl['player_of_match'].value_counts()"
   ]
  },
  {
   "cell_type": "markdown",
   "id": "f062eff5",
   "metadata": {},
   "source": [
    "#### Getting the top 10 players with the most man of the match awards"
   ]
  },
  {
   "cell_type": "code",
   "execution_count": null,
   "id": "8c03d20a",
   "metadata": {},
   "outputs": [
    {
     "ename": "",
     "evalue": "",
     "output_type": "error",
     "traceback": [
      "\u001b[1;31mFailed to start the Kernel. \n",
      "\u001b[1;31mFailed to start the Kernel 'base (Python 3.9.13)'. \n",
      "\u001b[1;31mView Jupyter <a href='command:jupyter.viewOutput'>log</a> for further details. Activating /usr/bin/python3 to run Jupyter failed with Error: Workspace not trusted"
     ]
    }
   ],
   "source": [
    "ipl['player_of_match'].value_counts()[0:10]"
   ]
  },
  {
   "cell_type": "markdown",
   "id": "a42fba53",
   "metadata": {},
   "source": [
    "#### Getting the top 5 players with most man of the match awards"
   ]
  },
  {
   "cell_type": "code",
   "execution_count": null,
   "id": "88f87801",
   "metadata": {
    "scrolled": true
   },
   "outputs": [
    {
     "ename": "",
     "evalue": "",
     "output_type": "error",
     "traceback": [
      "\u001b[1;31mFailed to start the Kernel. \n",
      "\u001b[1;31mFailed to start the Kernel 'base (Python 3.9.13)'. \n",
      "\u001b[1;31mView Jupyter <a href='command:jupyter.viewOutput'>log</a> for further details. Activating /usr/bin/python3 to run Jupyter failed with Error: Workspace not trusted"
     ]
    }
   ],
   "source": [
    "ipl['player_of_match'].value_counts()[0:5]"
   ]
  },
  {
   "cell_type": "code",
   "execution_count": null,
   "id": "747a6d37",
   "metadata": {},
   "outputs": [
    {
     "ename": "",
     "evalue": "",
     "output_type": "error",
     "traceback": [
      "\u001b[1;31mFailed to start the Kernel. \n",
      "\u001b[1;31mFailed to start the Kernel 'base (Python 3.9.13)'. \n",
      "\u001b[1;31mView Jupyter <a href='command:jupyter.viewOutput'>log</a> for further details. Activating /usr/bin/python3 to run Jupyter failed with Error: Workspace not trusted"
     ]
    }
   ],
   "source": [
    "list(ipl['player_of_match'].value_counts()[0:5].keys())"
   ]
  },
  {
   "cell_type": "markdown",
   "id": "ab9887b2",
   "metadata": {},
   "source": [
    "#### Making a bar graph for the top 5 players with the most man of the match awards"
   ]
  },
  {
   "cell_type": "code",
   "execution_count": null,
   "id": "8a5fae8b",
   "metadata": {
    "scrolled": true
   },
   "outputs": [
    {
     "ename": "",
     "evalue": "",
     "output_type": "error",
     "traceback": [
      "\u001b[1;31mFailed to start the Kernel. \n",
      "\u001b[1;31mFailed to start the Kernel 'base (Python 3.9.13)'. \n",
      "\u001b[1;31mView Jupyter <a href='command:jupyter.viewOutput'>log</a> for further details. Activating /usr/bin/python3 to run Jupyter failed with Error: Workspace not trusted"
     ]
    }
   ],
   "source": [
    "plt.figure(figsize=(8,5))\n",
    "plt.bar(list(ipl['player_of_match'].value_counts()[0:5].keys()),list(ipl['player_of_match'].value_counts()[0:5]),color=\"b\")\n",
    "plt.show()\n"
   ]
  },
  {
   "cell_type": "markdown",
   "id": "3db145a7",
   "metadata": {},
   "source": [
    "#### Getting the frequency of the result coloumn"
   ]
  },
  {
   "cell_type": "code",
   "execution_count": null,
   "id": "ffc5ddb0",
   "metadata": {},
   "outputs": [
    {
     "ename": "",
     "evalue": "",
     "output_type": "error",
     "traceback": [
      "\u001b[1;31mFailed to start the Kernel. \n",
      "\u001b[1;31mFailed to start the Kernel 'base (Python 3.9.13)'. \n",
      "\u001b[1;31mView Jupyter <a href='command:jupyter.viewOutput'>log</a> for further details. Activating /usr/bin/python3 to run Jupyter failed with Error: Workspace not trusted"
     ]
    }
   ],
   "source": [
    "ipl['result'].value_counts()"
   ]
  },
  {
   "cell_type": "markdown",
   "id": "70f27552",
   "metadata": {},
   "source": [
    "#### Finding out the number of toss wins w.r.t. each team"
   ]
  },
  {
   "cell_type": "code",
   "execution_count": null,
   "id": "75b7572f",
   "metadata": {},
   "outputs": [
    {
     "ename": "",
     "evalue": "",
     "output_type": "error",
     "traceback": [
      "\u001b[1;31mFailed to start the Kernel. \n",
      "\u001b[1;31mFailed to start the Kernel 'base (Python 3.9.13)'. \n",
      "\u001b[1;31mView Jupyter <a href='command:jupyter.viewOutput'>log</a> for further details. Activating /usr/bin/python3 to run Jupyter failed with Error: Workspace not trusted"
     ]
    }
   ],
   "source": [
    "ipl['toss_winner'].value_counts()"
   ]
  },
  {
   "cell_type": "markdown",
   "id": "553348f2",
   "metadata": {},
   "source": [
    "#### Extracting the records where a team wons batting first"
   ]
  },
  {
   "cell_type": "code",
   "execution_count": null,
   "id": "45948019",
   "metadata": {},
   "outputs": [
    {
     "ename": "",
     "evalue": "",
     "output_type": "error",
     "traceback": [
      "\u001b[1;31mFailed to start the Kernel. \n",
      "\u001b[1;31mFailed to start the Kernel 'base (Python 3.9.13)'. \n",
      "\u001b[1;31mView Jupyter <a href='command:jupyter.viewOutput'>log</a> for further details. Activating /usr/bin/python3 to run Jupyter failed with Error: Workspace not trusted"
     ]
    }
   ],
   "source": [
    "bat_first=ipl[ipl['win_by_runs']!=0]"
   ]
  },
  {
   "cell_type": "markdown",
   "id": "80203a40",
   "metadata": {},
   "source": [
    "#### Lets see the first 5 rows"
   ]
  },
  {
   "cell_type": "code",
   "execution_count": null,
   "id": "2f3115fd",
   "metadata": {},
   "outputs": [
    {
     "ename": "",
     "evalue": "",
     "output_type": "error",
     "traceback": [
      "\u001b[1;31mFailed to start the Kernel. \n",
      "\u001b[1;31mFailed to start the Kernel 'base (Python 3.9.13)'. \n",
      "\u001b[1;31mView Jupyter <a href='command:jupyter.viewOutput'>log</a> for further details. Activating /usr/bin/python3 to run Jupyter failed with Error: Workspace not trusted"
     ]
    }
   ],
   "source": [
    "bat_first.head()"
   ]
  },
  {
   "cell_type": "markdown",
   "id": "c63ca2c7",
   "metadata": {},
   "source": [
    "#### Making a histogram"
   ]
  },
  {
   "cell_type": "code",
   "execution_count": null,
   "id": "b7e4e6eb",
   "metadata": {},
   "outputs": [
    {
     "ename": "",
     "evalue": "",
     "output_type": "error",
     "traceback": [
      "\u001b[1;31mFailed to start the Kernel. \n",
      "\u001b[1;31mFailed to start the Kernel 'base (Python 3.9.13)'. \n",
      "\u001b[1;31mView Jupyter <a href='command:jupyter.viewOutput'>log</a> for further details. Activating /usr/bin/python3 to run Jupyter failed with Error: Workspace not trusted"
     ]
    }
   ],
   "source": [
    "plt.figure(figsize=(5,7))\n",
    "plt.hist(bat_first['win_by_runs'])\n",
    "plt.title('Distribution of runs')\n",
    "plt.xlabel('Runs')\n",
    "plt.show()"
   ]
  },
  {
   "cell_type": "markdown",
   "id": "fcd43ef8",
   "metadata": {},
   "source": [
    "#### Finding out the number of wins for each team after batting first"
   ]
  },
  {
   "cell_type": "code",
   "execution_count": null,
   "id": "da790f08",
   "metadata": {},
   "outputs": [
    {
     "ename": "",
     "evalue": "",
     "output_type": "error",
     "traceback": [
      "\u001b[1;31mFailed to start the Kernel. \n",
      "\u001b[1;31mFailed to start the Kernel 'base (Python 3.9.13)'. \n",
      "\u001b[1;31mView Jupyter <a href='command:jupyter.viewOutput'>log</a> for further details. Activating /usr/bin/python3 to run Jupyter failed with Error: Workspace not trusted"
     ]
    }
   ],
   "source": [
    "bat_first['winner'].value_counts()"
   ]
  },
  {
   "cell_type": "markdown",
   "id": "ebf87037",
   "metadata": {},
   "source": [
    "#### Making a bar-plot for top 3 teams with most wins after batting first"
   ]
  },
  {
   "cell_type": "code",
   "execution_count": null,
   "id": "a9dc91f4",
   "metadata": {},
   "outputs": [
    {
     "ename": "",
     "evalue": "",
     "output_type": "error",
     "traceback": [
      "\u001b[1;31mFailed to start the Kernel. \n",
      "\u001b[1;31mFailed to start the Kernel 'base (Python 3.9.13)'. \n",
      "\u001b[1;31mView Jupyter <a href='command:jupyter.viewOutput'>log</a> for further details. Activating /usr/bin/python3 to run Jupyter failed with Error: Workspace not trusted"
     ]
    }
   ],
   "source": [
    "plt.figure(figsize=(6,6))\n",
    "plt.bar(list(bat_first['winner'].value_counts()[0:3].keys()),list(bat_first['winner'].value_counts()[0:3]),color=[\"pink\",\"yellow\",\"orange\"])\n",
    "plt.show()                                                    "
   ]
  },
  {
   "cell_type": "markdown",
   "id": "93b87be2",
   "metadata": {},
   "source": [
    "#### Making a pie chart"
   ]
  },
  {
   "cell_type": "code",
   "execution_count": null,
   "id": "8a245f88",
   "metadata": {},
   "outputs": [
    {
     "ename": "",
     "evalue": "",
     "output_type": "error",
     "traceback": [
      "\u001b[1;31mFailed to start the Kernel. \n",
      "\u001b[1;31mFailed to start the Kernel 'base (Python 3.9.13)'. \n",
      "\u001b[1;31mView Jupyter <a href='command:jupyter.viewOutput'>log</a> for further details. Activating /usr/bin/python3 to run Jupyter failed with Error: Workspace not trusted"
     ]
    }
   ],
   "source": [
    "plt.figure(figsize=(7,7))\n",
    "plt.pie(list(bat_first['winner'].value_counts()),labels=list(bat_first['winner'].value_counts().keys()),autopct=\"%0.1f%%\")\n",
    "plt.show()\n"
   ]
  },
  {
   "cell_type": "markdown",
   "id": "3513bb6c",
   "metadata": {},
   "source": [
    "#### Extraction of those records where a team haswon after balling first"
   ]
  },
  {
   "cell_type": "code",
   "execution_count": null,
   "id": "07734a02",
   "metadata": {},
   "outputs": [
    {
     "ename": "",
     "evalue": "",
     "output_type": "error",
     "traceback": [
      "\u001b[1;31mFailed to start the Kernel. \n",
      "\u001b[1;31mFailed to start the Kernel 'base (Python 3.9.13)'. \n",
      "\u001b[1;31mView Jupyter <a href='command:jupyter.viewOutput'>log</a> for further details. Activating /usr/bin/python3 to run Jupyter failed with Error: Workspace not trusted"
     ]
    }
   ],
   "source": [
    "balling_first=ipl[ipl['win_by_wickets']!=0]"
   ]
  },
  {
   "cell_type": "markdown",
   "id": "8e4d9fab",
   "metadata": {},
   "source": [
    "#### Lets see the first 5 rows"
   ]
  },
  {
   "cell_type": "code",
   "execution_count": null,
   "id": "9e742501",
   "metadata": {},
   "outputs": [
    {
     "ename": "",
     "evalue": "",
     "output_type": "error",
     "traceback": [
      "\u001b[1;31mFailed to start the Kernel. \n",
      "\u001b[1;31mFailed to start the Kernel 'base (Python 3.9.13)'. \n",
      "\u001b[1;31mView Jupyter <a href='command:jupyter.viewOutput'>log</a> for further details. Activating /usr/bin/python3 to run Jupyter failed with Error: Workspace not trusted"
     ]
    }
   ],
   "source": [
    "balling_first.head()"
   ]
  },
  {
   "cell_type": "markdown",
   "id": "b3de37bc",
   "metadata": {},
   "source": [
    "#### Making a histogram for frequency of wins w.r.t. number of wickets"
   ]
  },
  {
   "cell_type": "code",
   "execution_count": null,
   "id": "9330e692",
   "metadata": {},
   "outputs": [
    {
     "ename": "",
     "evalue": "",
     "output_type": "error",
     "traceback": [
      "\u001b[1;31mFailed to start the Kernel. \n",
      "\u001b[1;31mFailed to start the Kernel 'base (Python 3.9.13)'. \n",
      "\u001b[1;31mView Jupyter <a href='command:jupyter.viewOutput'>log</a> for further details. Activating /usr/bin/python3 to run Jupyter failed with Error: Workspace not trusted"
     ]
    }
   ],
   "source": [
    "plt.figure(figsize=(7,7))\n",
    "plt.hist(balling_first['win_by_wickets'],bins=30)\n",
    "plt.show()"
   ]
  },
  {
   "cell_type": "markdown",
   "id": "b2f4317b",
   "metadata": {},
   "source": [
    "#### Finding out the frequency of number of wins w.r.t each time after balling first"
   ]
  },
  {
   "cell_type": "code",
   "execution_count": null,
   "id": "28b31463",
   "metadata": {},
   "outputs": [
    {
     "ename": "",
     "evalue": "",
     "output_type": "error",
     "traceback": [
      "\u001b[1;31mFailed to start the Kernel. \n",
      "\u001b[1;31mFailed to start the Kernel 'base (Python 3.9.13)'. \n",
      "\u001b[1;31mView Jupyter <a href='command:jupyter.viewOutput'>log</a> for further details. Activating /usr/bin/python3 to run Jupyter failed with Error: Workspace not trusted"
     ]
    }
   ],
   "source": [
    "balling_first['winner'].value_counts()"
   ]
  },
  {
   "cell_type": "markdown",
   "id": "127cd1d3",
   "metadata": {},
   "source": [
    "#### Making a bar plot for top 3 teams with most wins after balling first"
   ]
  },
  {
   "cell_type": "code",
   "execution_count": null,
   "id": "d76d5a07",
   "metadata": {},
   "outputs": [
    {
     "ename": "",
     "evalue": "",
     "output_type": "error",
     "traceback": [
      "\u001b[1;31mFailed to start the Kernel. \n",
      "\u001b[1;31mFailed to start the Kernel 'base (Python 3.9.13)'. \n",
      "\u001b[1;31mView Jupyter <a href='command:jupyter.viewOutput'>log</a> for further details. Activating /usr/bin/python3 to run Jupyter failed with Error: Workspace not trusted"
     ]
    }
   ],
   "source": [
    "plt.figure(figsize=(7,7))\n",
    "plt.bar(list(balling_first['winner'].value_counts()[0:3].keys()),list(balling_first['winner'].value_counts()[0:3]),color=[\"purple\",\"pink\",\"lightblue\"])\n",
    "plt.show()\n"
   ]
  },
  {
   "cell_type": "markdown",
   "id": "cfc8336a",
   "metadata": {},
   "source": [
    "#### Making a pie chart for distribution of most wins after balling first"
   ]
  },
  {
   "cell_type": "code",
   "execution_count": null,
   "id": "cf202e3c",
   "metadata": {},
   "outputs": [
    {
     "ename": "",
     "evalue": "",
     "output_type": "error",
     "traceback": [
      "\u001b[1;31mFailed to start the Kernel. \n",
      "\u001b[1;31mFailed to start the Kernel 'base (Python 3.9.13)'. \n",
      "\u001b[1;31mView Jupyter <a href='command:jupyter.viewOutput'>log</a> for further details. Activating /usr/bin/python3 to run Jupyter failed with Error: Workspace not trusted"
     ]
    }
   ],
   "source": [
    "plt.figure(figsize=(7,7))\n",
    "plt.pie(list(balling_first['winner'].value_counts()),labels=list(balling_first['winner'].value_counts().keys()),autopct='%0.1f%%')\n",
    "plt.show()"
   ]
  },
  {
   "cell_type": "markdown",
   "id": "e56d3e0c",
   "metadata": {},
   "source": [
    "#### Number of matches played each season"
   ]
  },
  {
   "cell_type": "code",
   "execution_count": null,
   "id": "5b4d18ef",
   "metadata": {},
   "outputs": [
    {
     "ename": "",
     "evalue": "",
     "output_type": "error",
     "traceback": [
      "\u001b[1;31mFailed to start the Kernel. \n",
      "\u001b[1;31mFailed to start the Kernel 'base (Python 3.9.13)'. \n",
      "\u001b[1;31mView Jupyter <a href='command:jupyter.viewOutput'>log</a> for further details. Activating /usr/bin/python3 to run Jupyter failed with Error: Workspace not trusted"
     ]
    }
   ],
   "source": [
    "ipl['Season'].value_counts()"
   ]
  },
  {
   "cell_type": "markdown",
   "id": "890dccc2",
   "metadata": {},
   "source": [
    "#### Number of matches played in each city"
   ]
  },
  {
   "cell_type": "code",
   "execution_count": null,
   "id": "044da84f",
   "metadata": {},
   "outputs": [
    {
     "ename": "",
     "evalue": "",
     "output_type": "error",
     "traceback": [
      "\u001b[1;31mFailed to start the Kernel. \n",
      "\u001b[1;31mFailed to start the Kernel 'base (Python 3.9.13)'. \n",
      "\u001b[1;31mView Jupyter <a href='command:jupyter.viewOutput'>log</a> for further details. Activating /usr/bin/python3 to run Jupyter failed with Error: Workspace not trusted"
     ]
    }
   ],
   "source": [
    "ipl['city'].value_counts()"
   ]
  },
  {
   "cell_type": "markdown",
   "id": "eec7bfa2",
   "metadata": {},
   "source": [
    "#### Finding out how many times a team has won the match after winning the toss"
   ]
  },
  {
   "cell_type": "code",
   "execution_count": null,
   "id": "bd8c25ec",
   "metadata": {},
   "outputs": [
    {
     "ename": "",
     "evalue": "",
     "output_type": "error",
     "traceback": [
      "\u001b[1;31mFailed to start the Kernel. \n",
      "\u001b[1;31mFailed to start the Kernel 'base (Python 3.9.13)'. \n",
      "\u001b[1;31mView Jupyter <a href='command:jupyter.viewOutput'>log</a> for further details. Activating /usr/bin/python3 to run Jupyter failed with Error: Workspace not trusted"
     ]
    }
   ],
   "source": [
    "import numpy as np\n",
    "np.sum(ipl['toss_winner']==ipl['winner'])"
   ]
  },
  {
   "cell_type": "markdown",
   "id": "6fd03fff",
   "metadata": {},
   "source": [
    "#### Dropping coloumns that won't affect the accuracy"
   ]
  },
  {
   "cell_type": "code",
   "execution_count": null,
   "id": "4d4c2c65",
   "metadata": {},
   "outputs": [
    {
     "ename": "",
     "evalue": "",
     "output_type": "error",
     "traceback": [
      "\u001b[1;31mFailed to start the Kernel. \n",
      "\u001b[1;31mFailed to start the Kernel 'base (Python 3.9.13)'. \n",
      "\u001b[1;31mView Jupyter <a href='command:jupyter.viewOutput'>log</a> for further details. Activating /usr/bin/python3 to run Jupyter failed with Error: Workspace not trusted"
     ]
    }
   ],
   "source": [
    "ipl.drop([\"id\", \"Season\",\"city\",\"date\", \"player_of_match\", 'umpire1', \"venue\", \"umpire2\"], axis=1, inplace=True)\n"
   ]
  },
  {
   "cell_type": "code",
   "execution_count": null,
   "id": "18d35b9a",
   "metadata": {},
   "outputs": [
    {
     "ename": "",
     "evalue": "",
     "output_type": "error",
     "traceback": [
      "\u001b[1;31mFailed to start the Kernel. \n",
      "\u001b[1;31mFailed to start the Kernel 'base (Python 3.9.13)'. \n",
      "\u001b[1;31mView Jupyter <a href='command:jupyter.viewOutput'>log</a> for further details. Activating /usr/bin/python3 to run Jupyter failed with Error: Workspace not trusted"
     ]
    }
   ],
   "source": [
    "ipl.head()"
   ]
  },
  {
   "cell_type": "markdown",
   "id": "0c00d387",
   "metadata": {},
   "source": [
    "#### Splitting the data to obtain target"
   ]
  },
  {
   "cell_type": "code",
   "execution_count": null,
   "id": "38232cfc",
   "metadata": {},
   "outputs": [
    {
     "ename": "",
     "evalue": "",
     "output_type": "error",
     "traceback": [
      "\u001b[1;31mFailed to start the Kernel. \n",
      "\u001b[1;31mFailed to start the Kernel 'base (Python 3.9.13)'. \n",
      "\u001b[1;31mView Jupyter <a href='command:jupyter.viewOutput'>log</a> for further details. Activating /usr/bin/python3 to run Jupyter failed with Error: Workspace not trusted"
     ]
    }
   ],
   "source": [
    "X = ipl.drop([\"winner\"], axis=1)\n",
    "y = ipl[\"winner\"]"
   ]
  },
  {
   "cell_type": "markdown",
   "id": "5282260b",
   "metadata": {},
   "source": [
    "#### Converting categorical values into numerical using pandas, get_dummies"
   ]
  },
  {
   "cell_type": "code",
   "execution_count": null,
   "id": "2de1a68c",
   "metadata": {},
   "outputs": [
    {
     "ename": "",
     "evalue": "",
     "output_type": "error",
     "traceback": [
      "\u001b[1;31mFailed to start the Kernel. \n",
      "\u001b[1;31mFailed to start the Kernel 'base (Python 3.9.13)'. \n",
      "\u001b[1;31mView Jupyter <a href='command:jupyter.viewOutput'>log</a> for further details. Activating /usr/bin/python3 to run Jupyter failed with Error: Workspace not trusted"
     ]
    }
   ],
   "source": [
    "X = pd.get_dummies(X, [\"team1\",\"team2\", \"toss_winner\", \"toss_decision\",\"result\", \"dl_applied\"], drop_first = True)\n"
   ]
  },
  {
   "cell_type": "code",
   "execution_count": null,
   "id": "23353907",
   "metadata": {},
   "outputs": [
    {
     "ename": "",
     "evalue": "",
     "output_type": "error",
     "traceback": [
      "\u001b[1;31mFailed to start the Kernel. \n",
      "\u001b[1;31mFailed to start the Kernel 'base (Python 3.9.13)'. \n",
      "\u001b[1;31mView Jupyter <a href='command:jupyter.viewOutput'>log</a> for further details. Activating /usr/bin/python3 to run Jupyter failed with Error: Workspace not trusted"
     ]
    }
   ],
   "source": [
    "X"
   ]
  },
  {
   "cell_type": "markdown",
   "id": "16e90b6e",
   "metadata": {},
   "source": [
    "#### Using LabelEncoder to convert to numeric since the output is still categorical"
   ]
  },
  {
   "cell_type": "code",
   "execution_count": null,
   "id": "e05d5320",
   "metadata": {},
   "outputs": [
    {
     "ename": "",
     "evalue": "",
     "output_type": "error",
     "traceback": [
      "\u001b[1;31mFailed to start the Kernel. \n",
      "\u001b[1;31mFailed to start the Kernel 'base (Python 3.9.13)'. \n",
      "\u001b[1;31mView Jupyter <a href='command:jupyter.viewOutput'>log</a> for further details. Activating /usr/bin/python3 to run Jupyter failed with Error: Workspace not trusted"
     ]
    }
   ],
   "source": [
    "from sklearn.preprocessing import LabelEncoder\n",
    "le = LabelEncoder()\n",
    "y = le.fit_transform(y)"
   ]
  },
  {
   "cell_type": "markdown",
   "id": "1ca1282b",
   "metadata": {},
   "source": [
    "#### Splitting the data into training and testing sets"
   ]
  },
  {
   "cell_type": "code",
   "execution_count": null,
   "id": "5d528cdc",
   "metadata": {},
   "outputs": [
    {
     "ename": "",
     "evalue": "",
     "output_type": "error",
     "traceback": [
      "\u001b[1;31mFailed to start the Kernel. \n",
      "\u001b[1;31mFailed to start the Kernel 'base (Python 3.9.13)'. \n",
      "\u001b[1;31mView Jupyter <a href='command:jupyter.viewOutput'>log</a> for further details. Activating /usr/bin/python3 to run Jupyter failed with Error: Workspace not trusted"
     ]
    }
   ],
   "source": [
    "from sklearn.model_selection import train_test_split\n",
    "x_train, x_test, y_train, y_test = train_test_split(X, y, train_size = 0.8)\n"
   ]
  },
  {
   "cell_type": "markdown",
   "id": "ed2ad318",
   "metadata": {},
   "source": [
    "#### Using Random Forest algorithm to predict accuracy"
   ]
  },
  {
   "cell_type": "code",
   "execution_count": null,
   "id": "ca47eb1e",
   "metadata": {},
   "outputs": [
    {
     "ename": "",
     "evalue": "",
     "output_type": "error",
     "traceback": [
      "\u001b[1;31mFailed to start the Kernel. \n",
      "\u001b[1;31mFailed to start the Kernel 'base (Python 3.9.13)'. \n",
      "\u001b[1;31mView Jupyter <a href='command:jupyter.viewOutput'>log</a> for further details. Activating /usr/bin/python3 to run Jupyter failed with Error: Workspace not trusted"
     ]
    }
   ],
   "source": [
    "from sklearn.ensemble import RandomForestClassifier\n",
    "model = RandomForestClassifier(n_estimators=200,min_samples_split=3,max_features = \"auto\")"
   ]
  },
  {
   "cell_type": "code",
   "execution_count": null,
   "id": "5bd68e9e",
   "metadata": {},
   "outputs": [
    {
     "ename": "",
     "evalue": "",
     "output_type": "error",
     "traceback": [
      "\u001b[1;31mFailed to start the Kernel. \n",
      "\u001b[1;31mFailed to start the Kernel 'base (Python 3.9.13)'. \n",
      "\u001b[1;31mView Jupyter <a href='command:jupyter.viewOutput'>log</a> for further details. Activating /usr/bin/python3 to run Jupyter failed with Error: Workspace not trusted"
     ]
    }
   ],
   "source": [
    "model.fit(x_train, y_train)"
   ]
  },
  {
   "cell_type": "code",
   "execution_count": null,
   "id": "70ad4c1e",
   "metadata": {},
   "outputs": [
    {
     "ename": "",
     "evalue": "",
     "output_type": "error",
     "traceback": [
      "\u001b[1;31mFailed to start the Kernel. \n",
      "\u001b[1;31mFailed to start the Kernel 'base (Python 3.9.13)'. \n",
      "\u001b[1;31mView Jupyter <a href='command:jupyter.viewOutput'>log</a> for further details. Activating /usr/bin/python3 to run Jupyter failed with Error: Workspace not trusted"
     ]
    }
   ],
   "source": [
    "y_pred = model.predict(x_test)"
   ]
  },
  {
   "cell_type": "code",
   "execution_count": null,
   "id": "e4d128ec",
   "metadata": {},
   "outputs": [
    {
     "ename": "",
     "evalue": "",
     "output_type": "error",
     "traceback": [
      "\u001b[1;31mFailed to start the Kernel. \n",
      "\u001b[1;31mFailed to start the Kernel 'base (Python 3.9.13)'. \n",
      "\u001b[1;31mView Jupyter <a href='command:jupyter.viewOutput'>log</a> for further details. Activating /usr/bin/python3 to run Jupyter failed with Error: Workspace not trusted"
     ]
    }
   ],
   "source": [
    "from sklearn.metrics import accuracy_score\n",
    "ac = accuracy_score(y_pred, y_test)"
   ]
  },
  {
   "cell_type": "code",
   "execution_count": null,
   "id": "49c51976",
   "metadata": {},
   "outputs": [
    {
     "ename": "",
     "evalue": "",
     "output_type": "error",
     "traceback": [
      "\u001b[1;31mFailed to start the Kernel. \n",
      "\u001b[1;31mFailed to start the Kernel 'base (Python 3.9.13)'. \n",
      "\u001b[1;31mView Jupyter <a href='command:jupyter.viewOutput'>log</a> for further details. Activating /usr/bin/python3 to run Jupyter failed with Error: Workspace not trusted"
     ]
    }
   ],
   "source": [
    "print(\"Accuracy is: {:.2f}%\".format(ac*100))"
   ]
  }
 ],
 "metadata": {
  "kernelspec": {
   "display_name": "Python 3",
   "language": "python",
   "name": "python3"
  },
  "language_info": {
   "codemirror_mode": {
    "name": "ipython",
    "version": 3
   },
   "file_extension": ".py",
   "mimetype": "text/x-python",
   "name": "python",
   "nbconvert_exporter": "python",
   "pygments_lexer": "ipython3",
   "version": "3.9.6 (default, Oct 18 2022, 12:41:40) \n[Clang 14.0.0 (clang-1400.0.29.202)]"
  },
  "vscode": {
   "interpreter": {
    "hash": "31f2aee4e71d21fbe5cf8b01ff0e069b9275f58929596ceb00d14d90e3e16cd6"
   }
  }
 },
 "nbformat": 4,
 "nbformat_minor": 5
}
